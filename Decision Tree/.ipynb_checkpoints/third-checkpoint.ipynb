{
 "cells": [
  {
   "cell_type": "code",
   "execution_count": 1,
   "id": "f5b86f0d",
   "metadata": {},
   "outputs": [],
   "source": [
    "import numpy as np\n",
    "import matplotlib.pyplot as plt\n",
    "from skimage.feature import hog\n",
    "from skimage import exposure # The exposure module provides functions for image intensity adjustment and histogram equalization.توفر وحدة التعريض وظائف لضبط شدة الصورة ومعادلة الرسم البياني.\n",
    "import os\n",
    "from skimage import io, color, feature, exposure #This line imports multiple modules from the skimage library: io (input/output functions for reading and saving images), color (functions for color space conversion), feature (various image feature extraction techniques), and exposure (functions for image intensity adjustment).\n",
    "from sklearn.model_selection import train_test_split \n",
    "from sklearn.metrics import accuracy_score, classification_report \n",
    "import cv2 \n",
    "from sklearn.linear_model import LogisticRegression\n",
    "from sklearn.preprocessing import LabelEncoder\n",
    "from sklearn.utils import shuffle\n",
    "\n",
    "import pandas as pd\n",
    "from sklearn.tree import DecisionTreeClassifier # Import Decision Tree Classifier\n",
    "from sklearn.model_selection import train_test_split # Import train_test_split function\n",
    "from sklearn import metrics #Import scikit-learn metrics module for accuracy calculation"
   ]
  },
  {
   "cell_type": "markdown",
   "id": "bf54c4ec",
   "metadata": {},
   "source": [
    "# Feature Extraction using HOG\n"
   ]
  },
  {
   "cell_type": "code",
   "execution_count": 2,
   "id": "74e02f12",
   "metadata": {},
   "outputs": [],
   "source": [
    "# Function to extract HOG features from an image and visualize it\n",
    "def extract_hog_features(image):\n",
    "    # Convert the image to grayscale\n",
    "    gray_image = color.rgb2gray(image)\n",
    "    \n",
    "    # Calculate HOG features\n",
    "    hog_features, hog_image = feature.hog(gray_image, visualize=True) # hog_features: It stores the computed HOG features, which are a representation of the image based on the local gradient orientations.\n",
    "\n",
    "    # Enhance the contrast of the HOG image for better visualization\n",
    "    hog_image_rescaled = exposure.rescale_intensity(hog_image, in_range=(0, 10)) # i tried it but no difference as i saw\n",
    "\n",
    "    return hog_features, hog_image_rescaled"
   ]
  },
  {
   "cell_type": "code",
   "execution_count": 3,
   "id": "fd25fa02",
   "metadata": {},
   "outputs": [
    {
     "ename": "FileNotFoundError",
     "evalue": "[Errno 2] No such file or directory: '/Users/farrahtharwat/Desktop/Uni/Level 3/Semester 2/Advanced ML/Project/Advanced-Machine-Learning/Decision Trees'",
     "output_type": "error",
     "traceback": [
      "\u001b[0;31m---------------------------------------------------------------------------\u001b[0m",
      "\u001b[0;31mFileNotFoundError\u001b[0m                         Traceback (most recent call last)",
      "Cell \u001b[0;32mIn[3], line 5\u001b[0m\n\u001b[1;32m      2\u001b[0m dataset_path \u001b[38;5;241m=\u001b[39m \u001b[38;5;124m'\u001b[39m\u001b[38;5;124m/Users/farrahtharwat/Desktop/Uni/Level 3/Semester 2/Advanced ML/Project/Advanced-Machine-Learning/Decision Trees\u001b[39m\u001b[38;5;124m'\u001b[39m\n\u001b[1;32m      4\u001b[0m \u001b[38;5;66;03m# List all subdirectories (assuming each subdirectory corresponds to a class)\u001b[39;00m\n\u001b[0;32m----> 5\u001b[0m class_folders \u001b[38;5;241m=\u001b[39m [f\u001b[38;5;241m.\u001b[39mpath \u001b[38;5;28;01mfor\u001b[39;00m f \u001b[38;5;129;01min\u001b[39;00m os\u001b[38;5;241m.\u001b[39mscandir(dataset_path) \u001b[38;5;28;01mif\u001b[39;00m f\u001b[38;5;241m.\u001b[39mis_dir()]\n\u001b[1;32m      6\u001b[0m features_list\u001b[38;5;241m=\u001b[39m[]\n\u001b[1;32m      7\u001b[0m labels_list\u001b[38;5;241m=\u001b[39m[]\n",
      "\u001b[0;31mFileNotFoundError\u001b[0m: [Errno 2] No such file or directory: '/Users/farrahtharwat/Desktop/Uni/Level 3/Semester 2/Advanced ML/Project/Advanced-Machine-Learning/Decision Trees'"
     ]
    }
   ],
   "source": [
    "# Path to the root folder of your dataset\n",
    "dataset_path = '/Users/farrahtharwat/Desktop/Uni/Level 3/Semester 2/Advanced ML/Project/Advanced-Machine-Learning/Decision Trees'\n",
    "\n",
    "# List all subdirectories (assuming each subdirectory corresponds to a class)\n",
    "class_folders = [f.path for f in os.scandir(dataset_path) if f.is_dir()]\n",
    "features_list=[]\n",
    "labels_list=[]\n",
    "\n",
    "for class_folder in class_folders:\n",
    "    class_name = os.path.basename(class_folder) # This line extracts the base name of the class_folder path using the os.path.basename() function. It assigns the extracted name to the variable class_name... then make each folder name as class name\n",
    "\n",
    "    # Loop through each image in the class folder\n",
    "    for image_filename in os.listdir(class_folder): #This line uses the listdir function from the os module to retrieve a list of all files and directories within the class_folder directory.\n",
    "        image_path = os.path.join(class_folder, image_filename)\n",
    "\n",
    "        # Load the image\n",
    "        image = io.imread(image_path)\n",
    "\n",
    "        # Resize the image to 64x64\n",
    "        resized_image = cv2.resize(image, (64, 64))\n",
    "\n",
    "        # Extract HOG features and visualize\n",
    "        hog_features, hog_image = extract_hog_features(resized_image)\n",
    "\n",
    "        # Display the original image and the HOG features\n",
    "        fig, (ax1, ax2) = plt.subplots(1, 2, figsize=(2, 2), sharex=True, sharey=True) # fig will hold information about the entire frame, and (ax1, ax2) will hold information about the two subplots.\n",
    "\n",
    "        ax1.axis('off') # Think of it like turning off the axis labels and ticks....I don't want to see the numbers on the x and y axes.\n",
    "        ax1.imshow(resized_image, cmap=plt.cm.gray) #  Now, you're putting an image (resized_image) on your canvas.... cmap=plt.cm.gray just means you want to display the image in grayscale.\n",
    "\n",
    "        ax2.axis('off')\n",
    "        ax2.imshow(hog_image, cmap=plt.cm.gray)\n",
    "\n",
    "        plt.show()\n",
    "\n",
    "        # Append HOG features to the features list\n",
    "        features_list.append(hog_features)\n",
    "\n",
    "        # Append the label to the labels list\n",
    "        labels_list.append(class_name)"
   ]
  },
  {
   "cell_type": "code",
   "execution_count": null,
   "id": "1d619250",
   "metadata": {},
   "outputs": [],
   "source": [
    "# Convert lists to NumPy arrays\n",
    "features_array = np.array(features_list)\n",
    "labels_array = np.array(labels_list)\n",
    "# Use LabelEncoder to convert class names into numeric labels\n",
    "label_encoder = LabelEncoder()\n",
    "numeric_labels = label_encoder.fit_transform(labels_array)\n",
    "\n",
    "\n",
    "print(features_array) # Print the HOG features array\n",
    "print(numeric_labels) # Print the numeric labels\n",
    " "
   ]
  },
  {
   "cell_type": "code",
   "execution_count": null,
   "id": "ac3b241f",
   "metadata": {},
   "outputs": [],
   "source": [
    "# Split the dataset into training and testing sets\n",
    "# it is not related with the preprocessing or feature extraction it is gad3naa 3ady\n",
    "X_train, X_test, y_train, y_test = train_test_split(features_array, numeric_labels, test_size=0.2, random_state=78)"
   ]
  },
  {
   "cell_type": "markdown",
   "id": "fd5b62ab",
   "metadata": {},
   "source": [
    "# DECISION TREE MODEL\n"
   ]
  },
  {
   "cell_type": "code",
   "execution_count": null,
   "id": "78c35209",
   "metadata": {},
   "outputs": [],
   "source": [
    "# Train Decision Tree classifier \n",
    "clf = DecisionTreeClassifier(criterion=\"gini\", max_depth=15 ,min_samples_split=10,\n",
    "    min_samples_leaf = 2)   \n",
    "clf.fit(X_train, y_train)\n",
    "\n",
    "#Predict the response for test dataset\n",
    "y_pred = clf.predict(X_test)\n",
    "\n",
    "# Model Accuracy, how often is the classifier correct?\n",
    "#accuracy_dt =metrics.accuracy_score(y_test, y_pred) \n",
    "#print(\"Accuracy:\",accuracy_dt)\n",
    "\n",
    "# Model Accuracy, how often is the classifier correct?\n",
    "x=metrics.accuracy_score(y_test, y_pred)\n",
    "print(\"Accuracy:\",metrics.accuracy_score(y_test, y_pred))"
   ]
  },
  {
   "cell_type": "markdown",
   "id": "da2c6460",
   "metadata": {},
   "source": [
    "# CONFUSION MATRIX\n"
   ]
  },
  {
   "cell_type": "code",
   "execution_count": null,
   "id": "db2b5703",
   "metadata": {},
   "outputs": [],
   "source": [
    "from sklearn.metrics import confusion_matrix\n",
    "import matplotlib.pyplot as plt\n",
    "import seaborn as sns\n",
    "\n",
    "# Generate the confusion matrix\n",
    "cm = confusion_matrix(y_test, y_pred)\n",
    "\n",
    "# Create a Confusion Matrix\n",
    "plt.figure(figsize=(8, 8))\n",
    "sns.heatmap(cm, annot=True, fmt='d', cmap='Greens')\n",
    "plt.title('Confusion Matrix')\n",
    "plt.ylabel('True label')\n",
    "plt.xlabel('Predicted label')\n",
    "plt.show()"
   ]
  },
  {
   "cell_type": "markdown",
   "id": "35074d68",
   "metadata": {},
   "source": [
    "# ROC_CURVE"
   ]
  },
  {
   "cell_type": "code",
   "execution_count": null,
   "id": "d7ec6393",
   "metadata": {},
   "outputs": [],
   "source": [
    "from sklearn.metrics import roc_curve, auc\n",
    "\n",
    "# Predict probabilities for test data\n",
    "y_pred_proba = clf.predict_proba(X_test)\n",
    "\n",
    "# Compute ROC curve and ROC area for each class\n",
    "fpr, tpr, _ = roc_curve(y_test, y_pred_proba[:, 1])\n",
    "roc_auc = auc(fpr, tpr)\n",
    "\n",
    "# Plot ROC curve\n",
    "plt.figure()\n",
    "plt.plot(fpr, tpr, color='darkorange', lw=2, label='ROC curve (area = %0.2f)' % roc_auc)\n",
    "plt.plot([0, 1], [0, 1], color='navy', lw=2, linestyle='--')\n",
    "plt.xlim([0.0, 1.0])\n",
    "plt.ylim([0.0, 1.05])\n",
    "plt.xlabel('False Positive Rate')\n",
    "plt.ylabel('True Positive Rate')\n",
    "plt.title('Receiver Operating Characteristic (ROC) Curve')\n",
    "plt.legend(loc=\"lower right\")\n",
    "plt.show()\n"
   ]
  },
  {
   "cell_type": "markdown",
   "id": "eaf87cc9",
   "metadata": {},
   "source": [
    "# DECISION TREE MODEL WITH NORMALIZATION"
   ]
  },
  {
   "cell_type": "code",
   "execution_count": null,
   "id": "2a51bab3",
   "metadata": {},
   "outputs": [],
   "source": [
    "from sklearn.preprocessing import StandardScaler\n",
    "#Initialize StandardScaler\n",
    "scaler = StandardScaler()"
   ]
  },
  {
   "cell_type": "code",
   "execution_count": null,
   "id": "1941ac02",
   "metadata": {},
   "outputs": [],
   "source": [
    "# Fit the scaler to the training data\n",
    "scaler.fit(features_array)"
   ]
  },
  {
   "cell_type": "code",
   "execution_count": null,
   "id": "b0355088",
   "metadata": {},
   "outputs": [],
   "source": [
    "# Normalize or standardize the feature vectors\n",
    "features_scaled = scaler.fit_transform(features_array)"
   ]
  },
  {
   "cell_type": "markdown",
   "id": "b1e05bb1",
   "metadata": {},
   "source": [
    "# CROSS-VALIDATION"
   ]
  },
  {
   "cell_type": "code",
   "execution_count": null,
   "id": "88084974",
   "metadata": {},
   "outputs": [],
   "source": [
    "from sklearn.model_selection import cross_val_score, KFold, train_test_split\n",
    "\n",
    "# Define the number of folds for cross-validation\n",
    "num_folds = 5  # You can adjust this number based on your preference\n",
    "\n",
    "# Initialize KFold cross-validation\n",
    "kf = KFold(n_splits=num_folds, shuffle=True, random_state=56)\n",
    "\n",
    "# Perform cross-validation and collect accuracy scores\n",
    "accuracy_scores = []\n",
    "for train_index, test_index in kf.split(features_array):\n",
    "    X_train, X_val = features_array[train_index], features_array[test_index]\n",
    "    y_train, y_val = numeric_labels[train_index], numeric_labels[test_index]\n",
    "\n",
    "    # Train Decision Tree classifier with the best hyperparameters\n",
    "    clf = DecisionTreeClassifier(criterion=\"gini\", max_depth=15, min_samples_split=10, min_samples_leaf=2)\n",
    "    clf.fit(X_train, y_train)\n",
    "\n",
    "    # Predict the response for validation dataset\n",
    "    y_pred = clf.predict(X_val)\n",
    "\n",
    "    # Calculate accuracy score for this fold\n",
    "    accuracy_scores.append(metrics.accuracy_score(y_val, y_pred))\n",
    "\n",
    "# Print the accuracy scores for each fold\n",
    "print(\"Cross-Validation Accuracy Scores:\", accuracy_scores)\n",
    "\n",
    "# Calculate the mean and standard deviation of the accuracy scores\n",
    "mean_accuracy = np.mean(accuracy_scores)\n",
    "std_accuracy = np.std(accuracy_scores)\n",
    "\n",
    "print(\"Mean Accuracy:\", mean_accuracy)\n",
    "print(\"Standard Deviation of Accuracy:\", std_accuracy)"
   ]
  },
  {
   "cell_type": "code",
   "execution_count": null,
   "id": "887841d7",
   "metadata": {},
   "outputs": [],
   "source": [
    "# Split the dataset into training and testing sets\n",
    "# it is not related with the preprocessing or feature extraction it is gad3naa 3ady\n",
    "X_train, X_test, y_train, y_test = train_test_split(features_array, numeric_labels, test_size=0.2, random_state=78)"
   ]
  },
  {
   "cell_type": "code",
   "execution_count": null,
   "id": "66146ace",
   "metadata": {},
   "outputs": [],
   "source": [
    "# Train Decision Tree classifier with the best hyperparameters\n",
    "clf = DecisionTreeClassifier(criterion=\"gini\", max_depth=15 ,min_samples_split=10,\n",
    "    min_samples_leaf = 2)\n",
    "clf.fit(X_train, y_train)\n",
    "\n",
    "#Predict the response for test dataset\n",
    "y_pred = clf.predict(X_test)\n",
    "\n",
    "# Model Accuracy, how often is the classifier correct?\n",
    "#accuracy_dt_cv =metrics.accuracy_score(y_test, y_pred) \n",
    "#print(\"Accuracy:\",accuracy_dt_cv)\n",
    "accuracy_dt_cv=metrics.accuracy_score(y_test, y_pred)\n",
    "print(\"Accuracy:\",metrics.accuracy_score(y_test, y_pred))"
   ]
  },
  {
   "cell_type": "markdown",
   "id": "f521aff8",
   "metadata": {},
   "source": [
    "# PLOTTING TWO MODELS"
   ]
  },
  {
   "cell_type": "code",
   "execution_count": null,
   "id": "f001a240",
   "metadata": {},
   "outputs": [],
   "source": [
    "# Plot the R-squared values\n",
    "plt.bar(x=['Decision Tree', 'Decision Tree with Normalization'], height=[x, accuracy_dt_cv])\n",
    "plt.ylabel(\"Accuracy\")\n",
    "plt.title(\"Model Accuracy Comparison\")\n",
    "plt.show()"
   ]
  },
  {
   "cell_type": "code",
   "execution_count": null,
   "id": "bb16075d",
   "metadata": {},
   "outputs": [],
   "source": [
    "from sklearn.metrics import confusion_matrix\n",
    "import matplotlib.pyplot as plt\n",
    "import seaborn as sns\n",
    "\n",
    "# Generate the confusion matrix\n",
    "cm = confusion_matrix(y_test, y_pred)\n",
    "\n",
    "# Create a Confusion Matrix\n",
    "plt.figure(figsize=(8, 8))\n",
    "sns.heatmap(cm, annot=True, fmt='d', cmap='Greens')\n",
    "plt.title('Confusion Matrix')\n",
    "plt.ylabel('True label')\n",
    "plt.xlabel('Predicted label')\n",
    "plt.show()"
   ]
  },
  {
   "cell_type": "code",
   "execution_count": null,
   "id": "2b9afa75",
   "metadata": {},
   "outputs": [],
   "source": [
    "from sklearn.metrics import roc_curve, auc\n",
    "\n",
    "# Predict probabilities for test data\n",
    "y_pred_proba = clf.predict_proba(X_test)\n",
    "\n",
    "# Compute ROC curve and ROC area for each class\n",
    "fpr, tpr, _ = roc_curve(y_test, y_pred_proba[:, 1])\n",
    "roc_auc = auc(fpr, tpr)\n",
    "\n",
    "# Plot ROC curve\n",
    "plt.figure()\n",
    "plt.plot(fpr, tpr, color='darkorange', lw=2, label='ROC curve (area = %0.2f)' % roc_auc)\n",
    "plt.plot([0, 1], [0, 1], color='navy', lw=2, linestyle='--')\n",
    "plt.xlim([0.0, 1.0])\n",
    "plt.ylim([0.0, 1.05])\n",
    "plt.xlabel('False Positive Rate')\n",
    "plt.ylabel('True Positive Rate')\n",
    "plt.title('Receiver Operating Characteristic (ROC) Curve')\n",
    "plt.legend(loc=\"lower right\")\n",
    "plt.show()"
   ]
  },
  {
   "cell_type": "code",
   "execution_count": null,
   "id": "56dd790d",
   "metadata": {},
   "outputs": [],
   "source": []
  }
 ],
 "metadata": {
  "kernelspec": {
   "display_name": "Python 3 (ipykernel)",
   "language": "python",
   "name": "python3"
  },
  "language_info": {
   "codemirror_mode": {
    "name": "ipython",
    "version": 3
   },
   "file_extension": ".py",
   "mimetype": "text/x-python",
   "name": "python",
   "nbconvert_exporter": "python",
   "pygments_lexer": "ipython3",
   "version": "3.11.5"
  }
 },
 "nbformat": 4,
 "nbformat_minor": 5
}
